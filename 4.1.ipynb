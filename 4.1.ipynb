{
 "cells": [
  {
   "cell_type": "code",
   "execution_count": 17,
   "id": "255ecec9",
   "metadata": {},
   "outputs": [],
   "source": [
    "#task 4.1 creating our own image\n",
    "import cv2\n",
    "import numpy\n"
   ]
  },
  {
   "cell_type": "code",
   "execution_count": 18,
   "id": "c004e3e5",
   "metadata": {},
   "outputs": [],
   "source": [
    "#create a black window and some written in it"
   ]
  },
  {
   "cell_type": "code",
   "execution_count": 19,
   "id": "8e6bca5a",
   "metadata": {},
   "outputs": [],
   "source": [
    "#creating a image with black background\n",
    "cn1 = numpy.zeros((800,800, 3))"
   ]
  },
  {
   "cell_type": "code",
   "execution_count": 20,
   "id": "067c0d7d",
   "metadata": {},
   "outputs": [
    {
     "data": {
      "text/plain": [
       "array([[[0., 0., 0.],\n",
       "        [0., 0., 0.],\n",
       "        [0., 0., 0.],\n",
       "        ...,\n",
       "        [0., 0., 0.],\n",
       "        [0., 0., 0.],\n",
       "        [0., 0., 0.]],\n",
       "\n",
       "       [[0., 0., 0.],\n",
       "        [0., 0., 0.],\n",
       "        [0., 0., 0.],\n",
       "        ...,\n",
       "        [0., 0., 0.],\n",
       "        [0., 0., 0.],\n",
       "        [0., 0., 0.]],\n",
       "\n",
       "       [[0., 0., 0.],\n",
       "        [0., 0., 0.],\n",
       "        [0., 0., 0.],\n",
       "        ...,\n",
       "        [0., 0., 0.],\n",
       "        [0., 0., 0.],\n",
       "        [0., 0., 0.]],\n",
       "\n",
       "       ...,\n",
       "\n",
       "       [[0., 0., 0.],\n",
       "        [0., 0., 0.],\n",
       "        [0., 0., 0.],\n",
       "        ...,\n",
       "        [0., 0., 0.],\n",
       "        [0., 0., 0.],\n",
       "        [0., 0., 0.]],\n",
       "\n",
       "       [[0., 0., 0.],\n",
       "        [0., 0., 0.],\n",
       "        [0., 0., 0.],\n",
       "        ...,\n",
       "        [0., 0., 0.],\n",
       "        [0., 0., 0.],\n",
       "        [0., 0., 0.]],\n",
       "\n",
       "       [[0., 0., 0.],\n",
       "        [0., 0., 0.],\n",
       "        [0., 0., 0.],\n",
       "        ...,\n",
       "        [0., 0., 0.],\n",
       "        [0., 0., 0.],\n",
       "        [0., 0., 0.]]])"
      ]
     },
     "execution_count": 20,
     "metadata": {},
     "output_type": "execute_result"
    }
   ],
   "source": [
    "cn1"
   ]
  },
  {
   "cell_type": "code",
   "execution_count": 21,
   "id": "06826da7",
   "metadata": {},
   "outputs": [
    {
     "data": {
      "text/plain": [
       "(800, 800, 3)"
      ]
     },
     "execution_count": 21,
     "metadata": {},
     "output_type": "execute_result"
    }
   ],
   "source": [
    "#in this array shows 800 rows amd 800 cols and 3 is the RGB\n",
    "cn1.shape"
   ]
  },
  {
   "cell_type": "code",
   "execution_count": null,
   "id": "a0608e67",
   "metadata": {},
   "outputs": [],
   "source": []
  },
  {
   "cell_type": "code",
   "execution_count": 22,
   "id": "1882f54f",
   "metadata": {},
   "outputs": [],
   "source": [
    "# here i ahve created a home with lines by using line fuction from CV2\n",
    "cn1 = cv2.line(cn,(141,272), (75,348), (255,255,255))\n",
    "cn1 = cv2.line(cn,(141,272), (203,348), (255,255,255))\n",
    "cn1 = cv2.line(cn,(75,348), (203,348), (255,255,255))\n",
    "cn1 = cv2.line(cn,(141,272), (417,201), (255,255,255))\n",
    "cn1 = cv2.line(cn,(203,348), (480,260), (255,255,255))\n",
    "cn1 = cv2.line(cn,(417,201), (480,260), (255,255,255))\n",
    "cn1 = cv2.line(cn,(75,348), (75,500), (255,255,255))\n",
    "cn1 = cv2.line(cn,(203,348), (203,500), (255,255,255))\n",
    "cn1 = cv2.line(cn,(75,500), (203,500), (255,255,255))\n",
    "cn1 = cv2.line(cn,(480,260), (480,425), (255,255,255))\n",
    "cn1 = cv2.line(cn,(203,500), (480,425), (255,255,255))"
   ]
  },
  {
   "cell_type": "code",
   "execution_count": null,
   "id": "857e4d8c",
   "metadata": {},
   "outputs": [],
   "source": [
    "cv2.imshow(\"p1\", cn1)\n",
    "cv2.waitKey()\n",
    "cv2.destroyAllWindows()"
   ]
  },
  {
   "cell_type": "code",
   "execution_count": null,
   "id": "312ddffc",
   "metadata": {},
   "outputs": [],
   "source": []
  },
  {
   "cell_type": "code",
   "execution_count": null,
   "id": "3064a138",
   "metadata": {},
   "outputs": [],
   "source": []
  }
 ],
 "metadata": {
  "kernelspec": {
   "display_name": "Python 3",
   "language": "python",
   "name": "python3"
  },
  "language_info": {
   "codemirror_mode": {
    "name": "ipython",
    "version": 3
   },
   "file_extension": ".py",
   "mimetype": "text/x-python",
   "name": "python",
   "nbconvert_exporter": "python",
   "pygments_lexer": "ipython3",
   "version": "3.8.8"
  }
 },
 "nbformat": 4,
 "nbformat_minor": 5
}
